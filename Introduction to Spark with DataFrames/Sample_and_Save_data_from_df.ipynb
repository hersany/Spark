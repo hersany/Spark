{
 "cells": [
  {
   "cell_type": "code",
   "execution_count": 1,
   "id": "palestinian-formula",
   "metadata": {},
   "outputs": [],
   "source": [
    "from pyspark.sql import SparkSession"
   ]
  },
  {
   "cell_type": "code",
   "execution_count": 2,
   "id": "bound-liechtenstein",
   "metadata": {},
   "outputs": [],
   "source": [
    "spark = SparkSession.builder.getOrCreate()"
   ]
  },
  {
   "cell_type": "code",
   "execution_count": 3,
   "id": "mediterranean-volunteer",
   "metadata": {},
   "outputs": [],
   "source": [
    "data_path = '/home/navarra/anaconda3/spark/Exercise Files/Data'"
   ]
  },
  {
   "cell_type": "code",
   "execution_count": 4,
   "id": "general-client",
   "metadata": {},
   "outputs": [],
   "source": [
    "df = spark.read.format('csv').option('header', 'true').load(data_path + '/location_temp.csv')"
   ]
  },
  {
   "cell_type": "code",
   "execution_count": 5,
   "id": "seeing-mason",
   "metadata": {
    "scrolled": true
   },
   "outputs": [
    {
     "name": "stdout",
     "output_type": "stream",
     "text": [
      "+-------------------+-----------+------------+\n",
      "|         event_date|location_id|temp_celcius|\n",
      "+-------------------+-----------+------------+\n",
      "|03/04/2019 19:48:06|       loc0|          29|\n",
      "|03/04/2019 19:53:06|       loc0|          27|\n",
      "|03/04/2019 19:58:06|       loc0|          28|\n",
      "|03/04/2019 20:03:06|       loc0|          30|\n",
      "|03/04/2019 20:08:06|       loc0|          27|\n",
      "|03/04/2019 20:13:06|       loc0|          27|\n",
      "|03/04/2019 20:18:06|       loc0|          27|\n",
      "|03/04/2019 20:23:06|       loc0|          29|\n",
      "|03/04/2019 20:28:06|       loc0|          32|\n",
      "|03/04/2019 20:33:06|       loc0|          35|\n",
      "+-------------------+-----------+------------+\n",
      "only showing top 10 rows\n",
      "\n"
     ]
    }
   ],
   "source": [
    "df.show(10)"
   ]
  },
  {
   "cell_type": "markdown",
   "id": "aggregate-stephen",
   "metadata": {},
   "source": [
    "# Sampling"
   ]
  },
  {
   "cell_type": "code",
   "execution_count": 6,
   "id": "reserved-software",
   "metadata": {},
   "outputs": [
    {
     "data": {
      "text/plain": [
       "500000"
      ]
     },
     "execution_count": 6,
     "metadata": {},
     "output_type": "execute_result"
    }
   ],
   "source": [
    "df.count()"
   ]
  },
  {
   "cell_type": "code",
   "execution_count": 7,
   "id": "minute-connectivity",
   "metadata": {},
   "outputs": [],
   "source": [
    "df_s = df.sample(fraction = 0.1, withReplacement = False)"
   ]
  },
  {
   "cell_type": "code",
   "execution_count": 8,
   "id": "stable-chocolate",
   "metadata": {},
   "outputs": [
    {
     "data": {
      "text/plain": [
       "50011"
      ]
     },
     "execution_count": 8,
     "metadata": {},
     "output_type": "execute_result"
    }
   ],
   "source": [
    "df_s.count()"
   ]
  },
  {
   "cell_type": "code",
   "execution_count": 9,
   "id": "fiscal-budapest",
   "metadata": {},
   "outputs": [
    {
     "name": "stdout",
     "output_type": "stream",
     "text": [
      "+-------------------+-----------+------------+\n",
      "|         event_date|location_id|temp_celcius|\n",
      "+-------------------+-----------+------------+\n",
      "|03/04/2019 20:13:06|       loc0|          27|\n",
      "|03/04/2019 22:18:06|       loc0|          29|\n",
      "|03/04/2019 23:23:06|       loc0|          27|\n",
      "|03/04/2019 23:38:06|       loc0|          29|\n",
      "|03/04/2019 23:58:06|       loc0|          30|\n",
      "|03/05/2019 00:33:06|       loc0|          27|\n",
      "|03/05/2019 00:58:06|       loc0|          30|\n",
      "|03/05/2019 01:48:06|       loc0|          29|\n",
      "|03/05/2019 02:08:06|       loc0|          32|\n",
      "|03/05/2019 02:33:06|       loc0|          29|\n",
      "|03/05/2019 03:23:06|       loc0|          31|\n",
      "|03/05/2019 03:28:06|       loc0|          29|\n",
      "|03/05/2019 05:23:06|       loc0|          31|\n",
      "|03/05/2019 06:13:06|       loc0|          30|\n",
      "|03/05/2019 06:33:06|       loc0|          29|\n",
      "|03/05/2019 07:38:06|       loc0|          27|\n",
      "|03/05/2019 08:03:06|       loc0|          27|\n",
      "|03/05/2019 09:53:06|       loc0|          30|\n",
      "|03/05/2019 10:48:06|       loc0|          28|\n",
      "|03/05/2019 11:08:06|       loc0|          28|\n",
      "+-------------------+-----------+------------+\n",
      "only showing top 20 rows\n",
      "\n"
     ]
    }
   ],
   "source": [
    "df_s.show()"
   ]
  },
  {
   "cell_type": "code",
   "execution_count": 10,
   "id": "considered-employment",
   "metadata": {},
   "outputs": [
    {
     "name": "stdout",
     "output_type": "stream",
     "text": [
      "+-----------+------------------+\n",
      "|location_id| avg(temp_celcius)|\n",
      "+-----------+------------------+\n",
      "|     loc196|28.896551724137932|\n",
      "|     loc226|25.272727272727273|\n",
      "|     loc463|23.094736842105263|\n",
      "|     loc150| 31.88118811881188|\n",
      "|     loc292| 29.04123711340206|\n",
      "|     loc311|24.142857142857142|\n",
      "|      loc22|28.466666666666665|\n",
      "|     loc351| 28.51219512195122|\n",
      "|     loc370| 28.84269662921348|\n",
      "|     loc419|28.741935483870968|\n",
      "|      loc31| 25.17094017094017|\n",
      "|     loc305|            27.544|\n",
      "|      loc82|27.255102040816325|\n",
      "|      loc90|23.154761904761905|\n",
      "|     loc118|23.979591836734695|\n",
      "|     loc195|27.037735849056602|\n",
      "|     loc208| 26.08823529411765|\n",
      "|      loc39|25.214285714285715|\n",
      "|      loc75| 22.98913043478261|\n",
      "|     loc228|27.181818181818183|\n",
      "+-----------+------------------+\n",
      "only showing top 20 rows\n",
      "\n"
     ]
    }
   ],
   "source": [
    "df_s.groupBy('location_id').agg({'temp_celcius' :'mean'}).show()"
   ]
  },
  {
   "cell_type": "code",
   "execution_count": 11,
   "id": "ranking-ireland",
   "metadata": {},
   "outputs": [
    {
     "name": "stdout",
     "output_type": "stream",
     "text": [
      "+-----------+------------------+\n",
      "|location_id| avg(temp_celcius)|\n",
      "+-----------+------------------+\n",
      "|       loc0|29.097087378640776|\n",
      "|       loc1|28.323529411764707|\n",
      "|      loc10|25.683168316831683|\n",
      "|     loc100| 27.48421052631579|\n",
      "|     loc101|25.677419354838708|\n",
      "|     loc102| 30.04040404040404|\n",
      "|     loc103|25.182795698924732|\n",
      "|     loc104|26.355555555555554|\n",
      "|     loc105|26.271844660194176|\n",
      "|     loc106|27.274509803921568|\n",
      "+-----------+------------------+\n",
      "only showing top 10 rows\n",
      "\n"
     ]
    }
   ],
   "source": [
    "df_s.groupBy('location_id').agg({'temp_celcius' : 'mean'}).orderBy('location_id').show(10)"
   ]
  },
  {
   "cell_type": "code",
   "execution_count": 12,
   "id": "joined-stroke",
   "metadata": {},
   "outputs": [
    {
     "name": "stdout",
     "output_type": "stream",
     "text": [
      "+-----------+-----------------+\n",
      "|location_id|avg(temp_celcius)|\n",
      "+-----------+-----------------+\n",
      "|       loc0|           29.176|\n",
      "|       loc1|           28.246|\n",
      "|      loc10|           25.337|\n",
      "|     loc100|           27.297|\n",
      "|     loc101|           25.317|\n",
      "|     loc102|           30.327|\n",
      "|     loc103|           25.341|\n",
      "|     loc104|           26.204|\n",
      "|     loc105|           26.217|\n",
      "|     loc106|           27.201|\n",
      "+-----------+-----------------+\n",
      "only showing top 10 rows\n",
      "\n"
     ]
    }
   ],
   "source": [
    "df.groupBy('location_id').agg({'temp_celcius' : 'mean'}).orderBy('location_id').show(10)"
   ]
  },
  {
   "cell_type": "markdown",
   "id": "practical-ballet",
   "metadata": {},
   "source": [
    "# Saving"
   ]
  },
  {
   "cell_type": "code",
   "execution_count": 13,
   "id": "cosmetic-cattle",
   "metadata": {},
   "outputs": [
    {
     "name": "stdout",
     "output_type": "stream",
     "text": [
      "+-------------------+-----------+------------+\n",
      "|         event_date|location_id|temp_celcius|\n",
      "+-------------------+-----------+------------+\n",
      "|03/04/2019 19:48:06|       loc0|          29|\n",
      "|03/04/2019 19:53:06|       loc0|          27|\n",
      "|03/04/2019 19:58:06|       loc0|          28|\n",
      "|03/04/2019 20:03:06|       loc0|          30|\n",
      "|03/04/2019 20:08:06|       loc0|          27|\n",
      "|03/04/2019 20:13:06|       loc0|          27|\n",
      "|03/04/2019 20:18:06|       loc0|          27|\n",
      "|03/04/2019 20:23:06|       loc0|          29|\n",
      "|03/04/2019 20:28:06|       loc0|          32|\n",
      "|03/04/2019 20:33:06|       loc0|          35|\n",
      "+-------------------+-----------+------------+\n",
      "only showing top 10 rows\n",
      "\n"
     ]
    }
   ],
   "source": [
    "df.show(10)"
   ]
  },
  {
   "cell_type": "code",
   "execution_count": 18,
   "id": "tough-soviet",
   "metadata": {},
   "outputs": [],
   "source": [
    "df.write.csv('df1.csv')"
   ]
  },
  {
   "cell_type": "code",
   "execution_count": 15,
   "id": "optimum-politics",
   "metadata": {},
   "outputs": [
    {
     "name": "stdout",
     "output_type": "stream",
     "text": [
      " Basic_df_operations.ipynb     Loading_csv_into_dataframes.ipynb\r\n",
      " df1.csv\t\t       Loading_json_into_dataframes.ipynb\r\n",
      "'Exercise Files'\t       Sample_and_Save_data_from_df.ipynb\r\n",
      " Filtering_Aggregating.ipynb\r\n"
     ]
    }
   ],
   "source": [
    "! ls"
   ]
  },
  {
   "cell_type": "code",
   "execution_count": 16,
   "id": "spatial-soldier",
   "metadata": {},
   "outputs": [
    {
     "name": "stdout",
     "output_type": "stream",
     "text": [
      "part-00000-64f6a70c-0e98-45da-8a6c-65e9f61491ce-c000.csv\r\n",
      "part-00001-64f6a70c-0e98-45da-8a6c-65e9f61491ce-c000.csv\r\n",
      "part-00002-64f6a70c-0e98-45da-8a6c-65e9f61491ce-c000.csv\r\n",
      "part-00003-64f6a70c-0e98-45da-8a6c-65e9f61491ce-c000.csv\r\n",
      "_SUCCESS\r\n"
     ]
    }
   ],
   "source": [
    "! ls df1.csv # spark breaks up dataframes into partition subsets."
   ]
  },
  {
   "cell_type": "code",
   "execution_count": 17,
   "id": "practical-appointment",
   "metadata": {},
   "outputs": [
    {
     "name": "stdout",
     "output_type": "stream",
     "text": [
      "03/04/2019 19:48:06,loc0,29\r\n",
      "03/04/2019 19:53:06,loc0,27\r\n",
      "03/04/2019 19:58:06,loc0,28\r\n",
      "03/04/2019 20:03:06,loc0,30\r\n",
      "03/04/2019 20:08:06,loc0,27\r\n",
      "03/04/2019 20:13:06,loc0,27\r\n",
      "03/04/2019 20:18:06,loc0,27\r\n",
      "03/04/2019 20:23:06,loc0,29\r\n",
      "03/04/2019 20:28:06,loc0,32\r\n",
      "03/04/2019 20:33:06,loc0,35\r\n"
     ]
    }
   ],
   "source": [
    "! head df1.csv/part-00000-64f6a70c-0e98-45da-8a6c-65e9f61491ce-c000.csv"
   ]
  },
  {
   "cell_type": "code",
   "execution_count": 19,
   "id": "aquatic-worcester",
   "metadata": {},
   "outputs": [],
   "source": [
    "df.write.json('df1.json')"
   ]
  },
  {
   "cell_type": "code",
   "execution_count": 20,
   "id": "extended-ottawa",
   "metadata": {},
   "outputs": [
    {
     "name": "stdout",
     "output_type": "stream",
     "text": [
      "part-00000-ecc88ed3-af65-4178-9679-d0c3fc1abfe4-c000.json\r\n",
      "part-00001-ecc88ed3-af65-4178-9679-d0c3fc1abfe4-c000.json\r\n",
      "part-00002-ecc88ed3-af65-4178-9679-d0c3fc1abfe4-c000.json\r\n",
      "part-00003-ecc88ed3-af65-4178-9679-d0c3fc1abfe4-c000.json\r\n",
      "_SUCCESS\r\n"
     ]
    }
   ],
   "source": [
    "! ls df1.json"
   ]
  },
  {
   "cell_type": "code",
   "execution_count": 21,
   "id": "induced-philosophy",
   "metadata": {},
   "outputs": [
    {
     "name": "stdout",
     "output_type": "stream",
     "text": [
      "{\"event_date\":\"03/04/2019 19:48:06\",\"location_id\":\"loc0\",\"temp_celcius\":\"29\"}\r\n",
      "{\"event_date\":\"03/04/2019 19:53:06\",\"location_id\":\"loc0\",\"temp_celcius\":\"27\"}\r\n",
      "{\"event_date\":\"03/04/2019 19:58:06\",\"location_id\":\"loc0\",\"temp_celcius\":\"28\"}\r\n",
      "{\"event_date\":\"03/04/2019 20:03:06\",\"location_id\":\"loc0\",\"temp_celcius\":\"30\"}\r\n",
      "{\"event_date\":\"03/04/2019 20:08:06\",\"location_id\":\"loc0\",\"temp_celcius\":\"27\"}\r\n",
      "{\"event_date\":\"03/04/2019 20:13:06\",\"location_id\":\"loc0\",\"temp_celcius\":\"27\"}\r\n",
      "{\"event_date\":\"03/04/2019 20:18:06\",\"location_id\":\"loc0\",\"temp_celcius\":\"27\"}\r\n",
      "{\"event_date\":\"03/04/2019 20:23:06\",\"location_id\":\"loc0\",\"temp_celcius\":\"29\"}\r\n",
      "{\"event_date\":\"03/04/2019 20:28:06\",\"location_id\":\"loc0\",\"temp_celcius\":\"32\"}\r\n",
      "{\"event_date\":\"03/04/2019 20:33:06\",\"location_id\":\"loc0\",\"temp_celcius\":\"35\"}\r\n"
     ]
    }
   ],
   "source": [
    "! head df1.json/part-00000-ecc88ed3-af65-4178-9679-d0c3fc1abfe4-c000.json"
   ]
  },
  {
   "cell_type": "code",
   "execution_count": null,
   "id": "contemporary-arrow",
   "metadata": {},
   "outputs": [],
   "source": []
  }
 ],
 "metadata": {
  "kernelspec": {
   "display_name": "Python 3",
   "language": "python",
   "name": "python3"
  }
 },
 "nbformat": 4,
 "nbformat_minor": 5
}
