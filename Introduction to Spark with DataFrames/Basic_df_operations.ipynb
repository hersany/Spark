{
 "cells": [
  {
   "cell_type": "code",
   "execution_count": 1,
   "id": "steady-nickname",
   "metadata": {},
   "outputs": [],
   "source": [
    "from pyspark.sql import SparkSession"
   ]
  },
  {
   "cell_type": "code",
   "execution_count": 2,
   "id": "tropical-fields",
   "metadata": {},
   "outputs": [],
   "source": [
    "spark = SparkSession.builder.getOrCreate()"
   ]
  },
  {
   "cell_type": "code",
   "execution_count": 3,
   "id": "unavailable-character",
   "metadata": {},
   "outputs": [],
   "source": [
    "data_path = '/home/navarra/anaconda3/spark/Exercise Files/Data'"
   ]
  },
  {
   "cell_type": "code",
   "execution_count": 4,
   "id": "automated-polymer",
   "metadata": {},
   "outputs": [],
   "source": [
    "df1 = spark.read.format('json').load(data_path + '/utlization.json')"
   ]
  },
  {
   "cell_type": "code",
   "execution_count": 5,
   "id": "authorized-relaxation",
   "metadata": {},
   "outputs": [
    {
     "data": {
      "text/plain": [
       "DataFrame[cpu_utilization: double, event_datetime: string, free_memory: double, server_id: bigint, session_count: bigint]"
      ]
     },
     "execution_count": 5,
     "metadata": {},
     "output_type": "execute_result"
    }
   ],
   "source": [
    "df1"
   ]
  },
  {
   "cell_type": "code",
   "execution_count": 6,
   "id": "monthly-classroom",
   "metadata": {},
   "outputs": [
    {
     "name": "stdout",
     "output_type": "stream",
     "text": [
      "+---------------+-------------------+-----------+---------+-------------+\n",
      "|cpu_utilization|     event_datetime|free_memory|server_id|session_count|\n",
      "+---------------+-------------------+-----------+---------+-------------+\n",
      "|           0.57|03/05/2019 08:06:14|       0.51|      100|           47|\n",
      "|           0.47|03/05/2019 08:11:14|       0.62|      100|           43|\n",
      "|           0.56|03/05/2019 08:16:14|       0.57|      100|           62|\n",
      "|           0.57|03/05/2019 08:21:14|       0.56|      100|           50|\n",
      "|           0.35|03/05/2019 08:26:14|       0.46|      100|           43|\n",
      "|           0.41|03/05/2019 08:31:14|       0.58|      100|           48|\n",
      "|           0.57|03/05/2019 08:36:14|       0.35|      100|           58|\n",
      "|           0.41|03/05/2019 08:41:14|        0.4|      100|           58|\n",
      "|           0.53|03/05/2019 08:46:14|       0.35|      100|           62|\n",
      "|           0.51|03/05/2019 08:51:14|        0.6|      100|           45|\n",
      "+---------------+-------------------+-----------+---------+-------------+\n",
      "only showing top 10 rows\n",
      "\n"
     ]
    }
   ],
   "source": [
    "df1.show(10)"
   ]
  },
  {
   "cell_type": "code",
   "execution_count": 7,
   "id": "acting-router",
   "metadata": {},
   "outputs": [
    {
     "data": {
      "text/plain": [
       "500000"
      ]
     },
     "execution_count": 7,
     "metadata": {},
     "output_type": "execute_result"
    }
   ],
   "source": [
    "df1.count()"
   ]
  },
  {
   "cell_type": "code",
   "execution_count": 8,
   "id": "amazing-locator",
   "metadata": {},
   "outputs": [
    {
     "data": {
      "text/plain": [
       "['cpu_utilization',\n",
       " 'event_datetime',\n",
       " 'free_memory',\n",
       " 'server_id',\n",
       " 'session_count']"
      ]
     },
     "execution_count": 8,
     "metadata": {},
     "output_type": "execute_result"
    }
   ],
   "source": [
    "df1.columns"
   ]
  },
  {
   "cell_type": "code",
   "execution_count": 9,
   "id": "removable-appeal",
   "metadata": {},
   "outputs": [],
   "source": [
    "df1_sample = df1.sample(False, fraction = 0.1)"
   ]
  },
  {
   "cell_type": "code",
   "execution_count": 11,
   "id": "improved-alexander",
   "metadata": {},
   "outputs": [
    {
     "name": "stdout",
     "output_type": "stream",
     "text": [
      "+---------------+-------------------+-----------+---------+-------------+\n",
      "|cpu_utilization|     event_datetime|free_memory|server_id|session_count|\n",
      "+---------------+-------------------+-----------+---------+-------------+\n",
      "|           0.35|03/05/2019 08:26:14|       0.46|      100|           43|\n",
      "|           0.42|03/05/2019 09:36:14|        0.6|      100|           42|\n",
      "|           0.62|03/05/2019 10:16:14|       0.69|      100|           56|\n",
      "|           0.55|03/05/2019 10:51:14|       0.42|      100|           60|\n",
      "|           0.32|03/05/2019 11:06:14|       0.35|      100|           71|\n",
      "|           0.44|03/05/2019 11:16:14|       0.47|      100|           43|\n",
      "|            0.4|03/05/2019 13:21:14|       0.55|      100|           43|\n",
      "|            0.6|03/05/2019 14:36:14|       0.65|      100|           59|\n",
      "|           0.39|03/05/2019 15:01:14|       0.52|      100|           48|\n",
      "|           0.66|03/05/2019 16:51:14|       0.35|      100|           64|\n",
      "|           0.46|03/05/2019 17:16:14|       0.69|      100|           41|\n",
      "|           0.64|03/05/2019 18:21:14|        0.6|      100|           67|\n",
      "|           0.56|03/05/2019 20:31:14|        0.7|      100|           61|\n",
      "|           0.57|03/05/2019 21:21:14|       0.33|      100|           43|\n",
      "|           0.48|03/05/2019 23:41:14|       0.48|      100|           47|\n",
      "|           0.59|03/06/2019 00:36:14|       0.39|      100|           62|\n",
      "|           0.57|03/06/2019 02:16:14|       0.48|      100|           47|\n",
      "|           0.64|03/06/2019 03:16:14|       0.45|      100|           69|\n",
      "|           0.31|03/06/2019 03:41:14|       0.71|      100|           37|\n",
      "|           0.28|03/06/2019 04:06:14|       0.62|      100|           54|\n",
      "+---------------+-------------------+-----------+---------+-------------+\n",
      "only showing top 20 rows\n",
      "\n"
     ]
    }
   ],
   "source": [
    "df1_sample.show()"
   ]
  },
  {
   "cell_type": "code",
   "execution_count": 12,
   "id": "early-alberta",
   "metadata": {},
   "outputs": [
    {
     "data": {
      "text/plain": [
       "50182"
      ]
     },
     "execution_count": 12,
     "metadata": {},
     "output_type": "execute_result"
    }
   ],
   "source": [
    "df1_sample.count()"
   ]
  },
  {
   "cell_type": "code",
   "execution_count": 13,
   "id": "diverse-march",
   "metadata": {},
   "outputs": [],
   "source": [
    "df1_sort = df1_sample.sort('event_datetime')"
   ]
  },
  {
   "cell_type": "code",
   "execution_count": 14,
   "id": "pretty-korean",
   "metadata": {},
   "outputs": [
    {
     "name": "stdout",
     "output_type": "stream",
     "text": [
      "+---------------+-------------------+-----------+---------+-------------+\n",
      "|cpu_utilization|     event_datetime|free_memory|server_id|session_count|\n",
      "+---------------+-------------------+-----------+---------+-------------+\n",
      "|           0.62|03/05/2019 08:06:28|       0.41|      108|           86|\n",
      "|           0.71|03/05/2019 08:06:34|       0.27|      112|           86|\n",
      "|           0.24|03/05/2019 08:07:21|       0.68|      138|           59|\n",
      "|           0.69|03/05/2019 08:07:28|       0.24|      141|           67|\n",
      "|            0.8|03/05/2019 08:07:35|       0.21|      145|           94|\n",
      "|           0.62|03/05/2019 08:11:21|       0.15|      104|           86|\n",
      "|            0.6|03/05/2019 08:11:23|       0.45|      105|           74|\n",
      "|           0.67|03/05/2019 08:11:29|       0.46|      109|           68|\n",
      "|           0.78|03/05/2019 08:11:36|       0.38|      113|           83|\n",
      "|           0.44|03/05/2019 08:11:43|       0.51|      117|           75|\n",
      "|           0.23|03/05/2019 08:11:46|       0.76|      119|           37|\n",
      "|           0.58|03/05/2019 08:11:48|       0.38|      120|           64|\n",
      "|           0.65|03/05/2019 08:11:58|       0.12|      126|           83|\n",
      "|           0.54|03/05/2019 08:12:21|       0.45|      138|           39|\n",
      "|           0.48|03/05/2019 08:12:25|       0.36|      140|           65|\n",
      "|           0.74|03/05/2019 08:12:29|       0.23|      142|           79|\n",
      "|           0.55|03/05/2019 08:16:31|       0.36|      110|           78|\n",
      "|           0.42|03/05/2019 08:17:01|       0.44|      128|           50|\n",
      "|           0.63|03/05/2019 08:17:21|       0.63|      138|           41|\n",
      "|           0.69|03/05/2019 08:17:39|       0.57|      147|           47|\n",
      "+---------------+-------------------+-----------+---------+-------------+\n",
      "only showing top 20 rows\n",
      "\n"
     ]
    }
   ],
   "source": [
    "df1_sort.show()"
   ]
  }
 ],
 "metadata": {
  "kernelspec": {
   "display_name": "Python 3",
   "language": "python",
   "name": "python3"
  },
  "language_info": {
   "codemirror_mode": {
    "name": "ipython",
    "version": 3
   },
   "file_extension": ".py",
   "mimetype": "text/x-python",
   "name": "python",
   "nbconvert_exporter": "python",
   "pygments_lexer": "ipython3",
   "version": "3.6.9"
  }
 },
 "nbformat": 4,
 "nbformat_minor": 5
}
